{
 "cells": [
  {
   "cell_type": "code",
   "execution_count": 1,
   "metadata": {},
   "outputs": [],
   "source": [
    "import cv2\n",
    "import numpy as np"
   ]
  },
  {
   "cell_type": "code",
   "execution_count": 2,
   "metadata": {},
   "outputs": [],
   "source": [
    "def getPicture(filename):\n",
    "    img = cv2.imread(filename) \n",
    "    lis = img.shape     \n",
    "    piclist = []\n",
    "    row = lis[0]\n",
    "    col = lis[1]\n",
    "    for i in range(row):\n",
    "        for j in range(col):\n",
    "            pix_b = img[i][j][0]\n",
    "            pix_g = img[i][j][1]\n",
    "            pix_r = img[i][j][2]\n",
    "            piclist += [[i, j, pix_r, pix_g, pix_b]]\n",
    "    return piclist"
   ]
  },
  {
   "cell_type": "markdown",
   "metadata": {},
   "source": [
    "\n",
    "The function `getPicture(filename)` is designed to convert the three channels of an image, which represent the red, green, and blue (RGB) color components, into a single channel.<BR> Initially, the dimensions of the image are three-dimensional (row,column,3), with the third dimension representing the RGB channels. In OpenCV (cv2), these channels are represented as BGR (blue, green, red). The piclist variable is used to store the information of all the pixels in the image. Each pixel is represented by its row and column coordinates, followed by the intensity values for red, green, and blue. For example, for a 1024x1024 RGB image, each pixel would be represented as [row, column, red, green, blue]."
   ]
  },
  {
   "cell_type": "code",
   "execution_count": 3,
   "metadata": {},
   "outputs": [],
   "source": [
    "def putDataInPixel(index, sixBinary, pixels):\n",
    "    pixels[index][2] &= 252 #clearing blue component lsb\n",
    "    pixels[index][3] &= 252 #clearing green component lsb\n",
    "    pixels[index][4] &= 252 #clearing red component lsb\n",
    "    pixels[index][2] |= int(sixBinary[0:2], 2) #storing msg in cleared bit\n",
    "    pixels[index][3] |= int(sixBinary[2:4], 2)\n",
    "    pixels[index][4] |= int(sixBinary[4:6], 2)\n"
   ]
  },
  {
   "cell_type": "markdown",
   "metadata": {},
   "source": [
    "## putDataInPixel\n",
    "The putDataInPixel function is responsible for encoding data into the least significant bits (LSB) of the pixel values\n",
    "```python\n",
    "    pixels[index][2] &= 252\n",
    "    pixels[index][3] &= 252\n",
    "    pixels[index][4] &= 252\n",
    "```\n",
    "These lines clear the least significant 2 bits (LSB) of the blue, green, and red components of the pixel at the specified index.<br>This is done by performing a bitwise AND operation with the binary value 11111100, which sets the last two bits to 0.<br>\n",
    "```python\n",
    "    pixels[index][2] |= int(sixBinary[0:2], 2)\n",
    "```\n",
    "above line sets the last two bits of the blue component of the pixel at the specified index to the first two bits of the sixBinary string. It does this by performing a bitwise OR operation with the binary value of the first two characters of the sixBinary string.\n",
    "\n",
    "\n"
   ]
  },
  {
   "cell_type": "code",
   "execution_count": 4,
   "metadata": {},
   "outputs": [],
   "source": [
    "def stg(message,pixels):\n",
    "    messageLength = len(message)\n",
    "    messageLengthBin = bin(messageLength)[2:]\n",
    "    messageLengthBin = (24 - len(messageLengthBin)) * \"0\" + messageLengthBin\n",
    "    pixelIndex = 0\n",
    "    \n",
    "    for i in range(0, 24, 6):\n",
    "        putDataInPixel(pixelIndex, messageLengthBin[i: i + 6],pixels)\n",
    "        #print(pixels[pixelIndex])\n",
    "        pixelIndex += 1\n",
    " \n",
    "    messageInBin = \"\"\n",
    "    for char in message:\n",
    "        binaryStr = bin(ord(char))[2:]\n",
    "        binaryStr = (8 - len(binaryStr)) * \"0\" + binaryStr # ascii only 127 i.e 0111111\n",
    "        messageInBin += binaryStr\n",
    "        messageInBin = (6 - (len(messageInBin) % 6)) * \"0\" + messageInBin # to make multiple of 6\n",
    "\n",
    "    pixelIndex += 1\n",
    "    for i in range(0, len(messageInBin), 6):\n",
    "        putDataInPixel(pixelIndex, messageInBin[i: i + 6], pixels)\n",
    "        pixelIndex += 1"
   ]
  },
  {
   "cell_type": "markdown",
   "metadata": {},
   "source": [
    "## stg\n",
    "above function first reads the length of message and stores them in LSB of Red, blue and green component [Message length is stored because it can be useful if we wished to decrypt the information]. After that it converts the text informatino into ascii and stores them in LSB. Befor storing ASCII it adds one extra bit infront of obtained ASCII,as ASCII is representted by 7 bits. Also 4 zeros are added infront of that 8 bit ASCII to make if multiple of 6 because we use 6 bit[red 2 bit, green 2 bit, blue 2 bit] to store information.\n"
   ]
  },
  {
   "cell_type": "code",
   "execution_count": 10,
   "metadata": {},
   "outputs": [],
   "source": [
    "def makePicture(pic):\n",
    "    img1 = []\n",
    "    img2 = []\n",
    "    row = pic[-1][0] + 1\n",
    "    col = pic[-1][1] + 1\n",
    "    for i in range(row):\n",
    "        for j in range(col):\n",
    "            index = i * col + j\n",
    "            img1 += [[np.uint8(pic[index][4]), np.uint8(pic[index][3]), np.uint8(pic[index][2])]]\n",
    "        img2 += [img1]\n",
    "        img1 = []\n",
    "    #print(np.array(img2).shape)\n",
    "    return np.array(img2)"
   ]
  },
  {
   "cell_type": "markdown",
   "metadata": {},
   "source": [
    "## makepicture\n",
    "This function does opposite of getpicture function.\n",
    "This converts that [rows, column, R G, B] into its orginal 3 dimensional form"
   ]
  },
  {
   "cell_type": "code",
   "execution_count": 6,
   "metadata": {},
   "outputs": [],
   "source": [
    "def main():\n",
    "    pictureName='pic.jpg'     #enter name of your image stored in same directory\n",
    "    messageText=\"hello\"    #enter message to hide   \n",
    "    pixels=[]\n",
    "    pixels += getPicture(pictureName) #get all 3 channels in one list\n",
    "    stg(messageText, pixels)         #stores message length and message in LSBs\n",
    "    encryptedPicture = makePicture(pixels)     #changes back to 3 channel form\n",
    "    name='desiredName.jpg'     #enter name for output\n",
    "    cv2.imwrite(name, encryptedPicture)       # writes encrypted image\n",
    "      "
   ]
  },
  {
   "cell_type": "code",
   "execution_count": 9,
   "metadata": {},
   "outputs": [
    {
     "name": "stdout",
     "output_type": "stream",
     "text": [
      "(1024, 1024, 3)\n"
     ]
    }
   ],
   "source": [
    "main()\n"
   ]
  },
  {
   "cell_type": "markdown",
   "metadata": {},
   "source": [
    "## `Compiled by` _Sachin Koirala_\n",
    "\n"
   ]
  },
  {
   "cell_type": "markdown",
   "metadata": {},
   "source": []
  }
 ],
 "metadata": {
  "kernelspec": {
   "display_name": "stego",
   "language": "python",
   "name": "python3"
  },
  "language_info": {
   "codemirror_mode": {
    "name": "ipython",
    "version": 3
   },
   "file_extension": ".py",
   "mimetype": "text/x-python",
   "name": "python",
   "nbconvert_exporter": "python",
   "pygments_lexer": "ipython3",
   "version": "3.11.7"
  }
 },
 "nbformat": 4,
 "nbformat_minor": 2
}
